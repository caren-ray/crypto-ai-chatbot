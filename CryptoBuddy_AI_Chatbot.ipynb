{
  "nbformat": 4,
  "nbformat_minor": 0,
  "metadata": {
    "colab": {
      "provenance": []
    },
    "kernelspec": {
      "name": "python3",
      "display_name": "Python 3"
    },
    "language_info": {
      "name": "python"
    }
  },
  "cells": [
    {
      "cell_type": "code",
      "execution_count": 1,
      "metadata": {
        "id": "f8HKhvgjA02-"
      },
      "outputs": [],
      "source": [
        "crypto_db = {\n",
        "    \"Bitcoin\": {\n",
        "        \"price_trend\": \"rising\",\n",
        "        \"market_cap\": \"high\",\n",
        "        \"energy_use\": \"high\",\n",
        "        \"sustainability_score\": 3\n",
        "    },\n",
        "    \"Ethereum\": {\n",
        "        \"price_trend\": \"stable\",\n",
        "        \"market_cap\": \"high\",\n",
        "        \"energy_use\": \"medium\",\n",
        "        \"sustainability_score\": 6\n",
        "    },\n",
        "    \"Cardano\": {\n",
        "        \"price_trend\": \"rising\",\n",
        "        \"market_cap\": \"medium\",\n",
        "        \"energy_use\": \"low\",\n",
        "        \"sustainability_score\": 8\n",
        "    }\n",
        "}\n"
      ]
    },
    {
      "cell_type": "code",
      "source": [
        "def handle_query(query):\n",
        "    query = query.lower()\n",
        "\n",
        "    if \"sustainable\" in query:\n",
        "        recommend = max(crypto_db, key=lambda x: crypto_db[x][\"sustainability_score\"])\n",
        "        return f\"🌱 {recommend} is the most sustainable option with a score of {crypto_db[recommend]['sustainability_score']}/10!\"\n",
        "\n",
        "    elif \"trending\" in query or \"rising\" in query:\n",
        "        trending = [name for name, data in crypto_db.items() if data[\"price_trend\"] == \"rising\"]\n",
        "        return f\"📈 These cryptos are trending up: {', '.join(trending)}\"\n",
        "\n",
        "    elif \"long-term\" in query or \"growth\" in query:\n",
        "        for name, data in crypto_db.items():\n",
        "            if data[\"price_trend\"] == \"rising\" and data[\"sustainability_score\"] > 7:\n",
        "                return f\"🚀 {name} is great for long-term growth and sustainability!\"\n",
        "\n",
        "    else:\n",
        "        return \"❓ I'm not sure how to help with that. Try asking about sustainability or price trends!\"\n"
      ],
      "metadata": {
        "id": "hczt7waTDNBD"
      },
      "execution_count": 2,
      "outputs": []
    },
    {
      "cell_type": "code",
      "source": [
        "sample_questions = [\n",
        "    \"Which crypto is trending?\",\n",
        "    \"What's the most sustainable coin?\",\n",
        "    \"What should I buy for long-term growth?\"\n",
        "]\n",
        "\n",
        "for question in sample_questions:\n",
        "    print(f\"\\nYou: {question}\")\n",
        "    print(\"CryptoBuddy:\", handle_query(question))\n"
      ],
      "metadata": {
        "colab": {
          "base_uri": "https://localhost:8080/"
        },
        "id": "dGO-yddGD6_J",
        "outputId": "de9bc8fb-7127-42b3-f564-67c5f4c5d3e2"
      },
      "execution_count": 3,
      "outputs": [
        {
          "output_type": "stream",
          "name": "stdout",
          "text": [
            "\n",
            "You: Which crypto is trending?\n",
            "CryptoBuddy: 📈 These cryptos are trending up: Bitcoin, Cardano\n",
            "\n",
            "You: What's the most sustainable coin?\n",
            "CryptoBuddy: 🌱 Cardano is the most sustainable option with a score of 8/10!\n",
            "\n",
            "You: What should I buy for long-term growth?\n",
            "CryptoBuddy: 🚀 Cardano is great for long-term growth and sustainability!\n"
          ]
        }
      ]
    }
  ]
}